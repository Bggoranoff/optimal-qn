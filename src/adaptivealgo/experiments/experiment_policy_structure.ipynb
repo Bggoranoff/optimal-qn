{
 "cells": [
  {
   "cell_type": "code",
   "execution_count": 1,
   "metadata": {},
   "outputs": [],
   "source": [
    "import numpy as np\n",
    "import matplotlib.pyplot as plt\n",
    "\n",
    "import adaptivealgo.cli.policy_iter as pi"
   ]
  },
  {
   "cell_type": "code",
   "execution_count": null,
   "metadata": {},
   "outputs": [],
   "source": [
    "links = [2, 3, 4, 5]\n",
    "f_thresh = 0.4\n",
    "actions = [0.1, 0.2, 0.3, 0.4, 0.5]\n",
    "alpha = 1.0\n",
    "gamma = 0.2\n",
    "tol = 1e-6\n",
    "\n",
    "policies = {}\n",
    "for n_links in links:\n",
    "    policy, i = pi.policy_iter(n_links, f_thresh, actions, alpha, gamma, tol)\n",
    "    policies[n_links] = policy\n",
    "    print(f\"Finding policy for n_links={n_links} converged in {i} iterations\")\n",
    "\n",
    "# For each policy, for each state length (0, 1, 2, ...) plot the most frequent action taken\n",
    "for n_links, policy in policies.items():\n",
    "    state = np.zeros(n_links)\n",
    "    for i in range(100):\n",
    "        action = policy[tuple(state)]\n",
    "        state = np.roll(state, -1)\n",
    "        state[-1] = action\n",
    "        plt.plot(np.arange(n_links), state, label=f\"n_links={n_links}\")"
   ]
  }
 ],
 "metadata": {
  "kernelspec": {
   "display_name": ".venv",
   "language": "python",
   "name": "python3"
  },
  "language_info": {
   "codemirror_mode": {
    "name": "ipython",
    "version": 3
   },
   "file_extension": ".py",
   "mimetype": "text/x-python",
   "name": "python",
   "nbconvert_exporter": "python",
   "pygments_lexer": "ipython3",
   "version": "3.12.2"
  }
 },
 "nbformat": 4,
 "nbformat_minor": 2
}
