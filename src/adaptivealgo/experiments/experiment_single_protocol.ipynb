{
 "cells": [
  {
   "cell_type": "code",
   "execution_count": 19,
   "metadata": {},
   "outputs": [],
   "source": [
    "import numpy as np\n",
    "import matplotlib.pyplot as plt\n",
    "\n",
    "import adaptivealgo.cli.policy_iter as pi\n",
    "from adaptivealgo.lib.simulator import Simulator\n",
    "import adaptivealgo.cli.simulate_policy as sim"
   ]
  },
  {
   "cell_type": "code",
   "execution_count": 20,
   "metadata": {},
   "outputs": [],
   "source": [
    "n_links = 4\n",
    "f_thresh = 0.4\n",
    "actions = [0.1, 0.2, 0.3, 0.4, 0.5]\n",
    "alpha = 1.0\n",
    "gamma = 0.2\n",
    "tol = 1e-6\n",
    "\n",
    "n_episodes = 10_000"
   ]
  },
  {
   "cell_type": "code",
   "execution_count": 21,
   "metadata": {},
   "outputs": [
    {
     "name": "stdout",
     "output_type": "stream",
     "text": [
      "Policy iteration took 2 iterations\n",
      "Mean runtime: 25 steps\n"
     ]
    }
   ],
   "source": [
    "policy, i = pi.find_policy(n_links, f_thresh, actions, alpha, gamma, tol)\n",
    "print(f\"Policy iteration took {i} iterations\")\n",
    "\n",
    "simulator = Simulator(policy[\"policy\"], n_links, f_thresh, actions, alpha, gamma)\n",
    "opt_samples = sim.gen_policy_samples(simulator, n_episodes)\n",
    "print(f\"Mean runtime: {int(np.mean(opt_samples))} steps\")"
   ]
  },
  {
   "cell_type": "code",
   "execution_count": 22,
   "metadata": {},
   "outputs": [
    {
     "name": "stdout",
     "output_type": "stream",
     "text": [
      "Mean runtime for action 0.1: 828 steps\n",
      "Mean runtime for action 0.2: 137 steps\n",
      "Mean runtime for action 0.3: 66 steps\n",
      "Mean runtime for action 0.4: 64 steps\n",
      "Mean runtime for action 0.5: +inf steps\n"
     ]
    }
   ],
   "source": [
    "sp_samples = {}\n",
    "\n",
    "for action_idx, action in enumerate(actions):\n",
    "    subopt_policy = {s: 0 for s in policy[\"policy\"].keys()}\n",
    "\n",
    "    try:\n",
    "        simulator = Simulator(subopt_policy, n_links, f_thresh, [action], alpha, gamma)\n",
    "    except AssertionError:\n",
    "        sp_samples[action_idx] = []\n",
    "        print(f\"Mean runtime for action {action}: +inf steps\")\n",
    "        continue\n",
    "\n",
    "    sp_samples[action_idx] = sim.gen_policy_samples(simulator, n_episodes)\n",
    "    print(f\"Mean runtime for action {action}: {int(np.mean(sp_samples[action_idx]))} steps\")"
   ]
  },
  {
   "cell_type": "code",
   "execution_count": 23,
   "metadata": {},
   "outputs": [
    {
     "data": {
      "image/png": "[encoded data removed]",
      "text/plain": [
       "<Figure size 640x480 with 1 Axes>"
      ]
     },
     "metadata": {},
     "output_type": "display_data"
    }
   ],
   "source": [
    "mean_runtimes = [np.mean(opt_samples)] + [np.mean(sp_samples[i]) for i in range(len(actions)) if sp_samples[i]]\n",
    "\n",
    "fig, ax = plt.subplots()\n",
    "ax.bar(range(len(actions)), mean_runtimes)\n",
    "ax.set_xticks(range(len(actions) + 1))\n",
    "ax.set_xticklabels([\"optimal\"] + actions)\n",
    "ax.set_ylabel(\"Mean runtime\")\n",
    "ax.set_xlabel(\"Action\")\n",
    "plt.show()"
   ]
  }
 ],
 "metadata": {
  "kernelspec": {
   "display_name": ".venv",
   "language": "python",
   "name": "python3"
  },
  "language_info": {
   "codemirror_mode": {
    "name": "ipython",
    "version": 3
   },
   "file_extension": ".py",
   "mimetype": "text/x-python",
   "name": "python",
   "nbconvert_exporter": "python",
   "pygments_lexer": "ipython3",
   "version": "3.12.2"
  }
 },
 "nbformat": 4,
 "nbformat_minor": 2
}
